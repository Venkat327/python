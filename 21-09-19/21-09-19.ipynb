{
 "cells": [
  {
   "cell_type": "code",
   "execution_count": null,
   "metadata": {},
   "outputs": [],
   "source": [
    "test=(input())\n",
    "for i in (0,test):\n",
    "    t=(input(\"enter sh sm eh em\"))\n",
    "    s=t.split()\n",
    "    sh=int(input(s[0]))\n",
    "    sm=int(input(s[1]))\n",
    "    eh=int(input(s[2]))\n",
    "    em=int(input(s[3]))\n",
    "    "
   ]
  },
  {
   "cell_type": "code",
   "execution_count": 1,
   "metadata": {},
   "outputs": [
    {
     "ename": "SyntaxError",
     "evalue": "invalid syntax (<ipython-input-1-4282e9d70f35>, line 3)",
     "output_type": "error",
     "traceback": [
      "\u001b[1;36m  File \u001b[1;32m\"<ipython-input-1-4282e9d70f35>\"\u001b[1;36m, line \u001b[1;32m3\u001b[0m\n\u001b[1;33m    open(file,'w') as o:\u001b[0m\n\u001b[1;37m                    ^\u001b[0m\n\u001b[1;31mSyntaxError\u001b[0m\u001b[1;31m:\u001b[0m invalid syntax\n"
     ]
    }
   ],
   "source": [
    "n=input()\n",
    "file=\"./sample.txt\"\n",
    "open(file,'w') as o:\n",
    "    o.write(n)"
   ]
  },
  {
   "cell_type": "code",
   "execution_count": 4,
   "metadata": {},
   "outputs": [
    {
     "name": "stdout",
     "output_type": "stream",
     "text": [
      "no of tasks:3\n",
      "sh sm eh em:1 22 1 25\n",
      "0 3\n"
     ]
    }
   ],
   "source": [
    "\n",
    "v=int(input(\"no of tasks:\"))\n",
    "n=input(\"sh sm eh em:\")\n",
    "n=n.split()\n",
    "sh=int(n[0])\n",
    "sm=int(n[1])\n",
    "eh=int(n[2])\n",
    "em=int(n[3])\n",
    "for i in range(0,v):    \n",
    "    a=abs((eh-sh))\n",
    "    b=abs((sm-em))\n",
    "print(a,b)"
   ]
  },
  {
   "cell_type": "code",
   "execution_count": null,
   "metadata": {},
   "outputs": [],
   "source": []
  }
 ],
 "metadata": {
  "kernelspec": {
   "display_name": "Python 3",
   "language": "python",
   "name": "python3"
  },
  "language_info": {
   "codemirror_mode": {
    "name": "ipython",
    "version": 3
   },
   "file_extension": ".py",
   "mimetype": "text/x-python",
   "name": "python",
   "nbconvert_exporter": "python",
   "pygments_lexer": "ipython3",
   "version": "3.7.3"
  }
 },
 "nbformat": 4,
 "nbformat_minor": 2
}
