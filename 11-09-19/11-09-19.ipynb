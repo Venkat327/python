{
 "cells": [
  {
   "cell_type": "code",
   "execution_count": 5,
   "metadata": {},
   "outputs": [
    {
     "name": "stdout",
     "output_type": "stream",
     "text": [
      "3\n",
      "i\n",
      "am\n",
      "venkat\n",
      "['i', 'am', 'venkat']\n"
     ]
    }
   ],
   "source": [
    "a=[]\n",
    "g=int(input())\n",
    "for i in range(0,g):\n",
    "    i=input()\n",
    "    a.append(i)\n",
    "print(a)    "
   ]
  },
  {
   "cell_type": "code",
   "execution_count": 9,
   "metadata": {},
   "outputs": [
    {
     "name": "stdout",
     "output_type": "stream",
     "text": [
      "enter a number4556\n"
     ]
    },
    {
     "data": {
      "text/plain": [
       "'6554'"
      ]
     },
     "execution_count": 9,
     "metadata": {},
     "output_type": "execute_result"
    }
   ],
   "source": [
    "n=(input(\"enter a number\"))\n",
    "r=n[::-1]\n",
    "int(r)\n",
    "r"
   ]
  },
  {
   "cell_type": "markdown",
   "metadata": {},
   "source": [
    "# special number"
   ]
  },
  {
   "cell_type": "code",
   "execution_count": 14,
   "metadata": {},
   "outputs": [
    {
     "name": "stdout",
     "output_type": "stream",
     "text": [
      "enter a number19\n",
      "19 is special number\n"
     ]
    }
   ],
   "source": [
    "n=int(input(\"enter a number\"))\n",
    "if n>9 and n<99:\n",
    "    a=n%10\n",
    "    b=n//10\n",
    "    c=a*b\n",
    "    d=a+b\n",
    "    e=c+d\n",
    "if e==n:\n",
    "    print(n,\"is special number\")\n",
    "else:\n",
    "    print(n,\"is not a special number\")"
   ]
  },
  {
   "cell_type": "markdown",
   "metadata": {},
   "source": [
    "##### perfect number"
   ]
  },
  {
   "cell_type": "markdown",
   "metadata": {},
   "source": [
    "u=int(input())\n",
    "x=0\n",
    "for i in range(1,u):\n",
    "    if u%i==0:\n",
    "        x=x+i\n",
    "if x==u:\n",
    "    print(\"perfect number\")\n",
    "else:\n",
    "    print(\" not a perfect number\")"
   ]
  },
  {
   "cell_type": "markdown",
   "metadata": {},
   "source": [
    "# prime number"
   ]
  },
  {
   "cell_type": "code",
   "execution_count": 18,
   "metadata": {},
   "outputs": [
    {
     "name": "stdout",
     "output_type": "stream",
     "text": [
      "enter a lb value10\n",
      "enter a ub value20\n"
     ]
    }
   ],
   "source": [
    "def prime(a,b):\n",
    "    c=0\n",
    "    for i in range(a,b+1):\n",
    "        for j in range(1,i+1):\n",
    "            if i%j==0:\n",
    "                c=c+1\n",
    "        if c==2:\n",
    "            print(i)\n",
    "l=int(input(\"enter a lb value\"))\n",
    "u=int(input(\"enter a ub value\"))\n",
    "prime(l,u)"
   ]
  }
 ],
 "metadata": {
  "kernelspec": {
   "display_name": "Python 3",
   "language": "python",
   "name": "python3"
  },
  "language_info": {
   "codemirror_mode": {
    "name": "ipython",
    "version": 3
   },
   "file_extension": ".py",
   "mimetype": "text/x-python",
   "name": "python",
   "nbconvert_exporter": "python",
   "pygments_lexer": "ipython3",
   "version": "3.7.3"
  }
 },
 "nbformat": 4,
 "nbformat_minor": 2
}
