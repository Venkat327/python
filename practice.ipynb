{
 "cells": [
  {
   "cell_type": "markdown",
   "metadata": {},
   "source": [
    "## 7 Segment Disply"
   ]
  },
  {
   "cell_type": "code",
   "execution_count": 22,
   "metadata": {},
   "outputs": [
    {
     "name": "stdout",
     "output_type": "stream",
     "text": [
      "enter a num:657\n",
      "total: 14\n",
      "71111111111111"
     ]
    }
   ],
   "source": [
    "d={0:6,1:2,2:5,3:5,4:4,5:5,6:6,7:3,8:7,9:6}\n",
    "N=input(\"enter a num:\")\n",
    "c=0\n",
    "j=0\n",
    "L=N.split()\n",
    "for i in N:\n",
    "     c=c+d[int(i)]\n",
    "print(\"total:\",c)\n",
    "if c%2==0:\n",
    "    print(\"7\",end='')\n",
    "    for j in range(1,c):\n",
    "        print(\"1\",end='')\n",
    "else:\n",
    "    for j in range(1,c+1):\n",
    "        print(\"1\",end='')\n",
    "\n"
   ]
  },
  {
   "cell_type": "code",
   "execution_count": null,
   "metadata": {},
   "outputs": [],
   "source": []
  }
 ],
 "metadata": {
  "kernelspec": {
   "display_name": "Python 3",
   "language": "python",
   "name": "python3"
  },
  "language_info": {
   "codemirror_mode": {
    "name": "ipython",
    "version": 3
   },
   "file_extension": ".py",
   "mimetype": "text/x-python",
   "name": "python",
   "nbconvert_exporter": "python",
   "pygments_lexer": "ipython3",
   "version": "3.7.3"
  }
 },
 "nbformat": 4,
 "nbformat_minor": 2
}
