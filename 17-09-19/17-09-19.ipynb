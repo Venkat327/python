{
 "cells": [
  {
   "cell_type": "code",
   "execution_count": null,
   "metadata": {},
   "outputs": [],
   "source": [
    "l={3456,6543,8765,9876,3456,7654,34568,5678}\n",
    "s=list(l)\n",
    "s.sort()\n",
    "print(s[-1])"
   ]
  },
  {
   "cell_type": "code",
   "execution_count": null,
   "metadata": {},
   "outputs": [],
   "source": [
    "a=1\n",
    "b=7\n",
    "t=int(input(\"nomof text cases\"))\n",
    "z=1\n",
    "while z<(t+1):\n",
    "    p=int(input(\"in which floor you are ?\"))\n",
    "    if (abs(p-a))>(abs(p-b)):\n",
    "        print(\"lift B will come\")\n",
    "        b=p\n",
    "    elif (abs(p-a))==(abs(p-b)):\n",
    "        print(\"lift A will come\")\n",
    "        a=p\n",
    "    else:\n",
    "        print(\"lift A will come\")\n",
    "        a=p\n",
    "    z+=1       "
   ]
  },
  {
   "cell_type": "code",
   "execution_count": 9,
   "metadata": {},
   "outputs": [
    {
     "name": "stdout",
     "output_type": "stream",
     "text": [
      "no of test cases3\n",
      "malayalam malayalam\n",
      "yes\n",
      "fghjk cvbnm,\n",
      "no\n",
      "prorp prorp\n",
      "yes\n"
     ]
    }
   ],
   "source": [
    "t=int(input(\"no of test cases\"))\n",
    "for i in range(t):\n",
    "    s=(input()).split()\n",
    "    s1=sorted(s[0])\n",
    "    s2=sorted(s[1])\n",
    "    if s1==s2:\n",
    "        print('yes')\n",
    "    else:\n",
    "        print('no')\n",
    "        "
   ]
  },
  {
   "cell_type": "code",
   "execution_count": null,
   "metadata": {},
   "outputs": [],
   "source": []
  }
 ],
 "metadata": {
  "kernelspec": {
   "display_name": "Python 3",
   "language": "python",
   "name": "python3"
  },
  "language_info": {
   "codemirror_mode": {
    "name": "ipython",
    "version": 3
   },
   "file_extension": ".py",
   "mimetype": "text/x-python",
   "name": "python",
   "nbconvert_exporter": "python",
   "pygments_lexer": "ipython3",
   "version": "3.7.3"
  }
 },
 "nbformat": 4,
 "nbformat_minor": 2
}
