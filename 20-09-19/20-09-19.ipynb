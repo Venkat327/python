{
 "cells": [
  {
   "cell_type": "code",
   "execution_count": 5,
   "metadata": {},
   "outputs": [
    {
     "name": "stdout",
     "output_type": "stream",
     "text": [
      "enter a value4\n",
      "1111"
     ]
    }
   ],
   "source": [
    "d={1:2,2:5,3:5,4:4,5:5,6:6,7:3,8:7,9:6,0:6}\n",
    "x=(input(\"enter a value\"))\n",
    "c=0\n",
    "for i in x:\n",
    "    c=c+d[int(i)]\n",
    "k=c\n",
    "if c%2!=0:\n",
    "    print(\"7\",end='')\n",
    "    for j in range(1,k):\n",
    "        print(\"1\",end='')\n",
    "else:\n",
    "    for j in range(1,k+1):\n",
    "        print(\"1\",end='')"
   ]
  },
  {
   "cell_type": "code",
   "execution_count": 3,
   "metadata": {},
   "outputs": [
    {
     "name": "stdout",
     "output_type": "stream",
     "text": [
      "enter a value5\n",
      "711"
     ]
    }
   ],
   "source": [
    "d={1:2,2:5,3:5,4:4,5:5,6:6,7:3,8:7,9:6,0:6}\n",
    "x=(input(\"enter a value\"))\n",
    "c=0\n",
    "for i in x:\n",
    "    c=c+d[int(i)]\n",
    "k=c\n",
    "e=k//2\n",
    "if c%2!=0:\n",
    "    print(\"7\",end='')\n",
    "    for j in range(1,e+1):\n",
    "        print(\"1\",end='')\n",
    "else:\n",
    "    for j in range(1,e+1):\n",
    "        print(\"1\",end='')"
   ]
  },
  {
   "cell_type": "code",
   "execution_count": 18,
   "metadata": {},
   "outputs": [
    {
     "name": "stdout",
     "output_type": "stream",
     "text": [
      "enter a ISBN num3456\n",
      "in valid number\n"
     ]
    }
   ],
   "source": [
    "e=(input(\"enter a ISBN num\"))\n",
    "t=list(e)\n",
    "c=len(e)\n",
    "d=0\n",
    "if c==10:\n",
    "    for i in range(1,11):\n",
    "        d=d+(i*int(t[i-1]))\n",
    "    if d%11==0:\n",
    "        print(\"Legal number\")\n",
    "    else:\n",
    "        print(\"Illegal number\")\n",
    "else:\n",
    "    print(\"in valid number\")"
   ]
  },
  {
   "cell_type": "code",
   "execution_count": null,
   "metadata": {},
   "outputs": [],
   "source": []
  }
 ],
 "metadata": {
  "kernelspec": {
   "display_name": "Python 3",
   "language": "python",
   "name": "python3"
  },
  "language_info": {
   "codemirror_mode": {
    "name": "ipython",
    "version": 3
   },
   "file_extension": ".py",
   "mimetype": "text/x-python",
   "name": "python",
   "nbconvert_exporter": "python",
   "pygments_lexer": "ipython3",
   "version": "3.7.3"
  }
 },
 "nbformat": 4,
 "nbformat_minor": 2
}
