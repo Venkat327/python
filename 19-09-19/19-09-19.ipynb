{
 "cells": [
  {
   "cell_type": "code",
   "execution_count": 2,
   "metadata": {},
   "outputs": [],
   "source": [
    "filePath=\"./files/sample.txt\"\n",
    "with open(filePath,'w') as f:\n",
    "    f.write(\"tfdhjnclsd mfehdilewcd brdujf d fuiedd cbnuyhdj deqfduw7hweg\")"
   ]
  },
  {
   "cell_type": "code",
   "execution_count": 5,
   "metadata": {},
   "outputs": [],
   "source": [
    "love=\"./nagurbi/venkat.txt\"\n",
    "with open(love,'w') as f:\n",
    "    f.write(\"10th class\")"
   ]
  },
  {
   "cell_type": "code",
   "execution_count": 7,
   "metadata": {},
   "outputs": [],
   "source": [
    "love=\"./nagurbi/venkat.txt\"\n",
    "with open(love,'w') as f:\n",
    "    f.write(\"ygejoephbufofrr \\n uyguihcwvhxvdjx\")"
   ]
  },
  {
   "cell_type": "code",
   "execution_count": 10,
   "metadata": {},
   "outputs": [
    {
     "name": "stdout",
     "output_type": "stream",
     "text": [
      "e\n"
     ]
    }
   ],
   "source": [
    "love=\"./nagurbi/venkat.txt\"\n",
    "with open(love,'r') as f:\n",
    "    g=f.read()\n",
    "    l=list(g)\n",
    "    print(l[2])"
   ]
  },
  {
   "cell_type": "code",
   "execution_count": 18,
   "metadata": {},
   "outputs": [
    {
     "name": "stdout",
     "output_type": "stream",
     "text": [
      "['venkat', 'nagurbi', 'suneeta']\n"
     ]
    }
   ],
   "source": [
    "l=[\"venkat\",\"nagurbi\",\"suneeta\",\"venkat\",\"nagurbi\"]\n",
    "t=[]\n",
    "for i in l:\n",
    "    if i not in  t:\n",
    "        t.append(i)\n",
    "        \n",
    "print(t)        "
   ]
  },
  {
   "cell_type": "code",
   "execution_count": 21,
   "metadata": {},
   "outputs": [
    {
     "name": "stdout",
     "output_type": "stream",
     "text": [
      "enterl k j\n",
      "l1\n",
      "k9\n",
      "j3\n",
      "3\n"
     ]
    }
   ],
   "source": [
    "e=input(\"enter\")\n",
    "c=0\n",
    "t=e.split()\n",
    "l=int(input(t[0]))\n",
    "u=int(input(t[1]))\n",
    "z=int(input(t[2]))\n",
    "for i in range(l,u+1):\n",
    "    if i%z==0:\n",
    "        c=c+1\n",
    "print(c)      "
   ]
  },
  {
   "cell_type": "code",
   "execution_count": null,
   "metadata": {},
   "outputs": [],
   "source": []
  }
 ],
 "metadata": {
  "kernelspec": {
   "display_name": "Python 3",
   "language": "python",
   "name": "python3"
  },
  "language_info": {
   "codemirror_mode": {
    "name": "ipython",
    "version": 3
   },
   "file_extension": ".py",
   "mimetype": "text/x-python",
   "name": "python",
   "nbconvert_exporter": "python",
   "pygments_lexer": "ipython3",
   "version": "3.7.3"
  }
 },
 "nbformat": 4,
 "nbformat_minor": 2
}
